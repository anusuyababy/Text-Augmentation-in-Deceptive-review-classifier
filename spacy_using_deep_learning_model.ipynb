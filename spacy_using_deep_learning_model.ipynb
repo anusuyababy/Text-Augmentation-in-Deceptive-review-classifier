{
  "nbformat": 4,
  "nbformat_minor": 0,
  "metadata": {
    "colab": {
      "name": "spacy using deep learning model.ipynb",
      "provenance": []
    },
    "kernelspec": {
      "name": "python3",
      "display_name": "Python 3"
    },
    "language_info": {
      "name": "python"
    }
  },
  "cells": [
    {
      "cell_type": "markdown",
      "metadata": {
        "id": "NcdUj8k41myX"
      },
      "source": [
        "# DECEPTIVE REVIEW CLASSIFIER"
      ]
    },
    {
      "cell_type": "code",
      "metadata": {
        "colab": {
          "base_uri": "https://localhost:8080/"
        },
        "id": "p0FBtCv5PxVc",
        "outputId": "9f2d157a-a558-45c7-c3e5-8df9422e4dd6"
      },
      "source": [
        "#importing libraries\n",
        "import numpy as np\n",
        "import pandas as pd\n",
        "import nltk\n",
        "import matplotlib.pyplot as plt\n",
        "import statistics\n",
        "import math\n",
        "import os\n",
        "import spacy\n",
        "from spacy.util import minibatch\n",
        "import matplotlib.pyplot as plt\n",
        "from nltk.corpus import stopwords\n",
        "from nltk.stem.porter import PorterStemmer\n",
        "from nltk.stem import WordNetLemmatizer\n",
        "from sklearn.preprocessing import LabelEncoder\n",
        "from sklearn.model_selection import train_test_split\n",
        "from sklearn.pipeline import Pipeline    \n",
        "from sklearn.model_selection import KFold, StratifiedKFold, cross_val_score\n",
        "from sklearn.metrics import confusion_matrix\n",
        "nltk.download('stopwords')\n",
        "nltk.download('punkt')\n",
        "nltk.download('wordnet')\n",
        "import re\n",
        "pd.set_option('max_colwidth', 800)\n",
        "from matplotlib.colors import ListedColormap\n",
        "from sklearn.metrics import precision_score, recall_score, plot_confusion_matrix, classification_report, accuracy_score, f1_score, confusion_matrix\n",
        "from sklearn import metrics\n",
        "%matplotlib inline"
      ],
      "execution_count": 1,
      "outputs": [
        {
          "output_type": "stream",
          "name": "stdout",
          "text": [
            "[nltk_data] Downloading package stopwords to /root/nltk_data...\n",
            "[nltk_data]   Unzipping corpora/stopwords.zip.\n",
            "[nltk_data] Downloading package punkt to /root/nltk_data...\n",
            "[nltk_data]   Unzipping tokenizers/punkt.zip.\n",
            "[nltk_data] Downloading package wordnet to /root/nltk_data...\n",
            "[nltk_data]   Unzipping corpora/wordnet.zip.\n"
          ]
        }
      ]
    },
    {
      "cell_type": "code",
      "metadata": {
        "id": "xbDWukVJHRGi"
      },
      "source": [
        "from sklearn.feature_extraction.text import CountVectorizer,TfidfVectorizer\n",
        "from sklearn.base import TransformerMixin\n",
        "from sklearn.pipeline import Pipeline\n",
        "import string\n",
        "from spacy.lang.en.stop_words import STOP_WORDS\n",
        "from spacy.lang.en import English"
      ],
      "execution_count": 2,
      "outputs": []
    },
    {
      "cell_type": "code",
      "metadata": {
        "colab": {
          "base_uri": "https://localhost:8080/",
          "height": 692
        },
        "id": "5ND0MVSoyIzC",
        "outputId": "3bb7d842-434a-4da7-e187-edae81806ce5"
      },
      "source": [
        "#loading dataset\n",
        "df=pd.read_csv('/content/deceptive.csv')\n",
        "df.head()"
      ],
      "execution_count": 3,
      "outputs": [
        {
          "output_type": "execute_result",
          "data": {
            "text/html": [
              "<div>\n",
              "<style scoped>\n",
              "    .dataframe tbody tr th:only-of-type {\n",
              "        vertical-align: middle;\n",
              "    }\n",
              "\n",
              "    .dataframe tbody tr th {\n",
              "        vertical-align: top;\n",
              "    }\n",
              "\n",
              "    .dataframe thead th {\n",
              "        text-align: right;\n",
              "    }\n",
              "</style>\n",
              "<table border=\"1\" class=\"dataframe\">\n",
              "  <thead>\n",
              "    <tr style=\"text-align: right;\">\n",
              "      <th></th>\n",
              "      <th>deceptive</th>\n",
              "      <th>hotel</th>\n",
              "      <th>polarity</th>\n",
              "      <th>source</th>\n",
              "      <th>text</th>\n",
              "    </tr>\n",
              "  </thead>\n",
              "  <tbody>\n",
              "    <tr>\n",
              "      <th>0</th>\n",
              "      <td>truthful</td>\n",
              "      <td>conrad</td>\n",
              "      <td>positive</td>\n",
              "      <td>TripAdvisor</td>\n",
              "      <td>We stayed for a one night getaway with family on a thursday. Triple AAA rate of 173 was a steal. 7th floor room complete with 44in plasma TV bose stereo, voss and evian water, and gorgeous bathroom(no tub but was fine for us) Concierge was very helpful. You cannot beat this location... Only flaw was breakfast was pricey and service was very very slow(2hours for four kids and four adults on a friday morning) even though there were only two other tables in the restaurant. Food was very good so it was worth the wait. I would return in a heartbeat. A gem in chicago... \\n</td>\n",
              "    </tr>\n",
              "    <tr>\n",
              "      <th>1</th>\n",
              "      <td>truthful</td>\n",
              "      <td>hyatt</td>\n",
              "      <td>positive</td>\n",
              "      <td>TripAdvisor</td>\n",
              "      <td>Triple A rate with upgrade to view room was less than $200 which also included breakfast vouchers. Had a great view of river, lake, Wrigley Bldg. &amp; Tribune Bldg. Most major restaurants, Shopping, Sightseeing attractions within walking distance. Large room with a very comfortable bed. \\n</td>\n",
              "    </tr>\n",
              "    <tr>\n",
              "      <th>2</th>\n",
              "      <td>truthful</td>\n",
              "      <td>hyatt</td>\n",
              "      <td>positive</td>\n",
              "      <td>TripAdvisor</td>\n",
              "      <td>This comes a little late as I'm finally catching up on my reviews from the past several months:) A dear friend and I stayed at the Hyatt Regency in late October 2007 for one night while visiting a friend and her husband from out of town. This hotel is perfect, IMO. Easy check in and check out. Lovely, clean, comfortable rooms with great views of the city. I know this area pretty well and it's very convenient to many downtown Chicago attractions. We had dinner and went clubing with our friends around Division St.. We had no problems getting cabs back and forth to the Hyatt and there's even public transportation right near by but we didn't bother since we only needed cabs from and to the hotel. Parking, as is usual for Chicago, was expensive but we were able to get our car out quickly (h...</td>\n",
              "    </tr>\n",
              "    <tr>\n",
              "      <th>3</th>\n",
              "      <td>truthful</td>\n",
              "      <td>omni</td>\n",
              "      <td>positive</td>\n",
              "      <td>TripAdvisor</td>\n",
              "      <td>The Omni Chicago really delivers on all fronts, from the spaciousness of the rooms to the helpful staff to the prized location on Michigan Avenue. While this address in Chicago requires a high level of quality, the Omni delivers. Check in for myself and a whole group of people with me was under 3 minutes, the staff had plentiful recommendations for dining and events, and the rooms are some of the largest you'll find at this price range in Chicago. Even the 'standard' room has a separate living area and work desk. The fitness center has free weights, weight machines, and two rows of cardio equipment. I shared the room with 7 others and did not feel cramped in any way! All in all, a great property! \\n</td>\n",
              "    </tr>\n",
              "    <tr>\n",
              "      <th>4</th>\n",
              "      <td>truthful</td>\n",
              "      <td>hyatt</td>\n",
              "      <td>positive</td>\n",
              "      <td>TripAdvisor</td>\n",
              "      <td>I asked for a high floor away from the elevator and that is what I got. The room was pleasantly decorated, functional and very clean. I didn't need a whole lot of service but when I did they were pleasant and prompt. I used the fitness center which was well equipped and everything was in working order. It is in a great location at one end of the Michigan Avenue shopping district. \\n</td>\n",
              "    </tr>\n",
              "  </tbody>\n",
              "</table>\n",
              "</div>"
            ],
            "text/plain": [
              "  deceptive  ...                                                                                                                                                                                                                                                                                                                                                                                                                                                                                                                                                                                                                                                                                                                                                                                                                             text\n",
              "0  truthful  ...                                                                                                                                                                                                                                    We stayed for a one night getaway with family on a thursday. Triple AAA rate of 173 was a steal. 7th floor room complete with 44in plasma TV bose stereo, voss and evian water, and gorgeous bathroom(no tub but was fine for us) Concierge was very helpful. You cannot beat this location... Only flaw was breakfast was pricey and service was very very slow(2hours for four kids and four adults on a friday morning) even though there were only two other tables in the restaurant. Food was very good so it was worth the wait. I would return in a heartbeat. A gem in chicago... \\n\n",
              "1  truthful  ...                                                                                                                                                                                                                                                                                                                                                                                                                                                                                                                                  Triple A rate with upgrade to view room was less than $200 which also included breakfast vouchers. Had a great view of river, lake, Wrigley Bldg. & Tribune Bldg. Most major restaurants, Shopping, Sightseeing attractions within walking distance. Large room with a very comfortable bed. \\n\n",
              "2  truthful  ...  This comes a little late as I'm finally catching up on my reviews from the past several months:) A dear friend and I stayed at the Hyatt Regency in late October 2007 for one night while visiting a friend and her husband from out of town. This hotel is perfect, IMO. Easy check in and check out. Lovely, clean, comfortable rooms with great views of the city. I know this area pretty well and it's very convenient to many downtown Chicago attractions. We had dinner and went clubing with our friends around Division St.. We had no problems getting cabs back and forth to the Hyatt and there's even public transportation right near by but we didn't bother since we only needed cabs from and to the hotel. Parking, as is usual for Chicago, was expensive but we were able to get our car out quickly (h...\n",
              "3  truthful  ...                                                                                             The Omni Chicago really delivers on all fronts, from the spaciousness of the rooms to the helpful staff to the prized location on Michigan Avenue. While this address in Chicago requires a high level of quality, the Omni delivers. Check in for myself and a whole group of people with me was under 3 minutes, the staff had plentiful recommendations for dining and events, and the rooms are some of the largest you'll find at this price range in Chicago. Even the 'standard' room has a separate living area and work desk. The fitness center has free weights, weight machines, and two rows of cardio equipment. I shared the room with 7 others and did not feel cramped in any way! All in all, a great property! \\n\n",
              "4  truthful  ...                                                                                                                                                                                                                                                                                                                                                                                                                                I asked for a high floor away from the elevator and that is what I got. The room was pleasantly decorated, functional and very clean. I didn't need a whole lot of service but when I did they were pleasant and prompt. I used the fitness center which was well equipped and everything was in working order. It is in a great location at one end of the Michigan Avenue shopping district. \\n\n",
              "\n",
              "[5 rows x 5 columns]"
            ]
          },
          "metadata": {},
          "execution_count": 3
        }
      ]
    },
    {
      "cell_type": "code",
      "metadata": {
        "colab": {
          "base_uri": "https://localhost:8080/"
        },
        "id": "iQtMqQOayI3H",
        "outputId": "9a83e4c9-f492-4f4e-eb4f-b86d41941b5e"
      },
      "source": [
        "df.shape"
      ],
      "execution_count": 4,
      "outputs": [
        {
          "output_type": "execute_result",
          "data": {
            "text/plain": [
              "(1600, 5)"
            ]
          },
          "metadata": {},
          "execution_count": 4
        }
      ]
    },
    {
      "cell_type": "code",
      "metadata": {
        "colab": {
          "base_uri": "https://localhost:8080/"
        },
        "id": "mvJBu0hRyI6N",
        "outputId": "d7d992a1-a751-4068-cdf3-f07ec5e88c3b"
      },
      "source": [
        "df['deceptive'].value_counts()"
      ],
      "execution_count": 5,
      "outputs": [
        {
          "output_type": "execute_result",
          "data": {
            "text/plain": [
              "deceptive    800\n",
              "truthful     800\n",
              "Name: deceptive, dtype: int64"
            ]
          },
          "metadata": {},
          "execution_count": 5
        }
      ]
    },
    {
      "cell_type": "code",
      "metadata": {
        "colab": {
          "base_uri": "https://localhost:8080/"
        },
        "id": "THLN8v0IyI9M",
        "outputId": "ce86a277-3c5d-4254-d8f1-1b2a47f5c22f"
      },
      "source": [
        "df['polarity'].value_counts()"
      ],
      "execution_count": 6,
      "outputs": [
        {
          "output_type": "execute_result",
          "data": {
            "text/plain": [
              "negative    800\n",
              "positive    800\n",
              "Name: polarity, dtype: int64"
            ]
          },
          "metadata": {},
          "execution_count": 6
        }
      ]
    },
    {
      "cell_type": "markdown",
      "metadata": {
        "id": "Bb2SpDri0EQ9"
      },
      "source": [
        "This is perfectly balanced dataset. Our target variable is 'deceptive'."
      ]
    },
    {
      "cell_type": "code",
      "metadata": {
        "colab": {
          "base_uri": "https://localhost:8080/"
        },
        "id": "yu8kwTeVz7Qd",
        "outputId": "5e9f03d1-638f-465a-acb6-a3b9f2347901"
      },
      "source": [
        "df['hotel'].value_counts()"
      ],
      "execution_count": 7,
      "outputs": [
        {
          "output_type": "execute_result",
          "data": {
            "text/plain": [
              "allegro             80\n",
              "palmer              80\n",
              "intercontinental    80\n",
              "amalfi              80\n",
              "swissotel           80\n",
              "fairmont            80\n",
              "hyatt               80\n",
              "sofitel             80\n",
              "talbott             80\n",
              "hardrock            80\n",
              "james               80\n",
              "omni                80\n",
              "conrad              80\n",
              "homewood            80\n",
              "affinia             80\n",
              "hilton              80\n",
              "sheraton            80\n",
              "monaco              80\n",
              "ambassador          80\n",
              "knickerbocker       80\n",
              "Name: hotel, dtype: int64"
            ]
          },
          "metadata": {},
          "execution_count": 7
        }
      ]
    },
    {
      "cell_type": "code",
      "metadata": {
        "colab": {
          "base_uri": "https://localhost:8080/"
        },
        "id": "Wphr2Fa13mp3",
        "outputId": "dcc63ef6-92c9-433e-cae3-b84d45077017"
      },
      "source": [
        "df['source'].value_counts()"
      ],
      "execution_count": 8,
      "outputs": [
        {
          "output_type": "execute_result",
          "data": {
            "text/plain": [
              "MTurk          800\n",
              "Web            400\n",
              "TripAdvisor    400\n",
              "Name: source, dtype: int64"
            ]
          },
          "metadata": {},
          "execution_count": 8
        }
      ]
    },
    {
      "cell_type": "markdown",
      "metadata": {
        "id": "BN716IOK3TrK"
      },
      "source": [
        "### EDA"
      ]
    },
    {
      "cell_type": "code",
      "metadata": {
        "colab": {
          "base_uri": "https://localhost:8080/",
          "height": 297
        },
        "id": "5uFkuJhWz7UZ",
        "outputId": "3dbc9d4f-b4a3-4c3a-e7be-e5e7a91e52a9"
      },
      "source": [
        "import seaborn as sns\n",
        "sns.countplot(x=df['deceptive'],hue='polarity',data=df)"
      ],
      "execution_count": 9,
      "outputs": [
        {
          "output_type": "execute_result",
          "data": {
            "text/plain": [
              "<matplotlib.axes._subplots.AxesSubplot at 0x7f2561ffb310>"
            ]
          },
          "metadata": {},
          "execution_count": 9
        },
        {
          "output_type": "display_data",
          "data": {
            "image/png": "[encoded data removed]",
            "text/plain": [
              "<Figure size 432x288 with 1 Axes>"
            ]
          },
          "metadata": {
            "needs_background": "light"
          }
        }
      ]
    },
    {
      "cell_type": "code",
      "metadata": {
        "colab": {
          "base_uri": "https://localhost:8080/",
          "height": 297
        },
        "id": "90xUlMklz7Yr",
        "outputId": "2bbdf67b-bad0-47c0-b615-3c0a4c9e074f"
      },
      "source": [
        "sns.countplot(x=df['source'],hue='deceptive',data=df)"
      ],
      "execution_count": 10,
      "outputs": [
        {
          "output_type": "execute_result",
          "data": {
            "text/plain": [
              "<matplotlib.axes._subplots.AxesSubplot at 0x7f2561865f10>"
            ]
          },
          "metadata": {},
          "execution_count": 10
        },
        {
          "output_type": "display_data",
          "data": {
            "image/png": "[encoded data removed]",
            "text/plain": [
              "<Figure size 432x288 with 1 Axes>"
            ]
          },
          "metadata": {
            "needs_background": "light"
          }
        }
      ]
    },
    {
      "cell_type": "code",
      "metadata": {
        "colab": {
          "base_uri": "https://localhost:8080/"
        },
        "id": "FO1iHYpP5Fpe",
        "outputId": "cdaaac61-7cb8-493c-8a59-57eea9013595"
      },
      "source": [
        "df.columns"
      ],
      "execution_count": 11,
      "outputs": [
        {
          "output_type": "execute_result",
          "data": {
            "text/plain": [
              "Index(['deceptive', 'hotel', 'polarity', 'source', 'text'], dtype='object')"
            ]
          },
          "metadata": {},
          "execution_count": 11
        }
      ]
    },
    {
      "cell_type": "code",
      "metadata": {
        "id": "xnUdH8nrozA4"
      },
      "source": [
        "# so combining three text columns --- hotel, source, text\n",
        "#df['text'] = df['hotel']+' '+df['source']+' '+df['text']\n",
        "#df.head()"
      ],
      "execution_count": 12,
      "outputs": []
    },
    {
      "cell_type": "code",
      "metadata": {
        "colab": {
          "base_uri": "https://localhost:8080/",
          "height": 536
        },
        "id": "waroBGNWz7fm",
        "outputId": "2fa9dc76-43dc-47b2-acb9-b5cae6ecc2cd"
      },
      "source": [
        "# dropping unnecessary columns. \n",
        "# dropping hotel names\n",
        "# dropping the source of the data\n",
        "# dropping the polarity of the dataset\n",
        "df.drop(['hotel', 'polarity', 'source'], axis = 1, inplace=True)\n",
        "df.head()"
      ],
      "execution_count": 13,
      "outputs": [
        {
          "output_type": "execute_result",
          "data": {
            "text/html": [
              "<div>\n",
              "<style scoped>\n",
              "    .dataframe tbody tr th:only-of-type {\n",
              "        vertical-align: middle;\n",
              "    }\n",
              "\n",
              "    .dataframe tbody tr th {\n",
              "        vertical-align: top;\n",
              "    }\n",
              "\n",
              "    .dataframe thead th {\n",
              "        text-align: right;\n",
              "    }\n",
              "</style>\n",
              "<table border=\"1\" class=\"dataframe\">\n",
              "  <thead>\n",
              "    <tr style=\"text-align: right;\">\n",
              "      <th></th>\n",
              "      <th>deceptive</th>\n",
              "      <th>text</th>\n",
              "    </tr>\n",
              "  </thead>\n",
              "  <tbody>\n",
              "    <tr>\n",
              "      <th>0</th>\n",
              "      <td>truthful</td>\n",
              "      <td>We stayed for a one night getaway with family on a thursday. Triple AAA rate of 173 was a steal. 7th floor room complete with 44in plasma TV bose stereo, voss and evian water, and gorgeous bathroom(no tub but was fine for us) Concierge was very helpful. You cannot beat this location... Only flaw was breakfast was pricey and service was very very slow(2hours for four kids and four adults on a friday morning) even though there were only two other tables in the restaurant. Food was very good so it was worth the wait. I would return in a heartbeat. A gem in chicago... \\n</td>\n",
              "    </tr>\n",
              "    <tr>\n",
              "      <th>1</th>\n",
              "      <td>truthful</td>\n",
              "      <td>Triple A rate with upgrade to view room was less than $200 which also included breakfast vouchers. Had a great view of river, lake, Wrigley Bldg. &amp; Tribune Bldg. Most major restaurants, Shopping, Sightseeing attractions within walking distance. Large room with a very comfortable bed. \\n</td>\n",
              "    </tr>\n",
              "    <tr>\n",
              "      <th>2</th>\n",
              "      <td>truthful</td>\n",
              "      <td>This comes a little late as I'm finally catching up on my reviews from the past several months:) A dear friend and I stayed at the Hyatt Regency in late October 2007 for one night while visiting a friend and her husband from out of town. This hotel is perfect, IMO. Easy check in and check out. Lovely, clean, comfortable rooms with great views of the city. I know this area pretty well and it's very convenient to many downtown Chicago attractions. We had dinner and went clubing with our friends around Division St.. We had no problems getting cabs back and forth to the Hyatt and there's even public transportation right near by but we didn't bother since we only needed cabs from and to the hotel. Parking, as is usual for Chicago, was expensive but we were able to get our car out quickly (h...</td>\n",
              "    </tr>\n",
              "    <tr>\n",
              "      <th>3</th>\n",
              "      <td>truthful</td>\n",
              "      <td>The Omni Chicago really delivers on all fronts, from the spaciousness of the rooms to the helpful staff to the prized location on Michigan Avenue. While this address in Chicago requires a high level of quality, the Omni delivers. Check in for myself and a whole group of people with me was under 3 minutes, the staff had plentiful recommendations for dining and events, and the rooms are some of the largest you'll find at this price range in Chicago. Even the 'standard' room has a separate living area and work desk. The fitness center has free weights, weight machines, and two rows of cardio equipment. I shared the room with 7 others and did not feel cramped in any way! All in all, a great property! \\n</td>\n",
              "    </tr>\n",
              "    <tr>\n",
              "      <th>4</th>\n",
              "      <td>truthful</td>\n",
              "      <td>I asked for a high floor away from the elevator and that is what I got. The room was pleasantly decorated, functional and very clean. I didn't need a whole lot of service but when I did they were pleasant and prompt. I used the fitness center which was well equipped and everything was in working order. It is in a great location at one end of the Michigan Avenue shopping district. \\n</td>\n",
              "    </tr>\n",
              "  </tbody>\n",
              "</table>\n",
              "</div>"
            ],
            "text/plain": [
              "  deceptive                                                                                                                                                                                                                                                                                                                                                                                                                                                                                                                                                                                                                                                                                                                                                                                                                             text\n",
              "0  truthful                                                                                                                                                                                                                                    We stayed for a one night getaway with family on a thursday. Triple AAA rate of 173 was a steal. 7th floor room complete with 44in plasma TV bose stereo, voss and evian water, and gorgeous bathroom(no tub but was fine for us) Concierge was very helpful. You cannot beat this location... Only flaw was breakfast was pricey and service was very very slow(2hours for four kids and four adults on a friday morning) even though there were only two other tables in the restaurant. Food was very good so it was worth the wait. I would return in a heartbeat. A gem in chicago... \\n\n",
              "1  truthful                                                                                                                                                                                                                                                                                                                                                                                                                                                                                                                                  Triple A rate with upgrade to view room was less than $200 which also included breakfast vouchers. Had a great view of river, lake, Wrigley Bldg. & Tribune Bldg. Most major restaurants, Shopping, Sightseeing attractions within walking distance. Large room with a very comfortable bed. \\n\n",
              "2  truthful  This comes a little late as I'm finally catching up on my reviews from the past several months:) A dear friend and I stayed at the Hyatt Regency in late October 2007 for one night while visiting a friend and her husband from out of town. This hotel is perfect, IMO. Easy check in and check out. Lovely, clean, comfortable rooms with great views of the city. I know this area pretty well and it's very convenient to many downtown Chicago attractions. We had dinner and went clubing with our friends around Division St.. We had no problems getting cabs back and forth to the Hyatt and there's even public transportation right near by but we didn't bother since we only needed cabs from and to the hotel. Parking, as is usual for Chicago, was expensive but we were able to get our car out quickly (h...\n",
              "3  truthful                                                                                             The Omni Chicago really delivers on all fronts, from the spaciousness of the rooms to the helpful staff to the prized location on Michigan Avenue. While this address in Chicago requires a high level of quality, the Omni delivers. Check in for myself and a whole group of people with me was under 3 minutes, the staff had plentiful recommendations for dining and events, and the rooms are some of the largest you'll find at this price range in Chicago. Even the 'standard' room has a separate living area and work desk. The fitness center has free weights, weight machines, and two rows of cardio equipment. I shared the room with 7 others and did not feel cramped in any way! All in all, a great property! \\n\n",
              "4  truthful                                                                                                                                                                                                                                                                                                                                                                                                                                I asked for a high floor away from the elevator and that is what I got. The room was pleasantly decorated, functional and very clean. I didn't need a whole lot of service but when I did they were pleasant and prompt. I used the fitness center which was well equipped and everything was in working order. It is in a great location at one end of the Michigan Avenue shopping district. \\n"
            ]
          },
          "metadata": {},
          "execution_count": 13
        }
      ]
    },
    {
      "cell_type": "code",
      "metadata": {
        "id": "GqpULgn0z7ix"
      },
      "source": [
        "#z = {'truthful' : 1, 'deceptive' : 0}  # 1 for truthful reviews and 0 for deceptive reviews\n",
        "#df['deceptive'] = df['deceptive'].map(z)"
      ],
      "execution_count": 14,
      "outputs": []
    },
    {
      "cell_type": "code",
      "metadata": {
        "colab": {
          "base_uri": "https://localhost:8080/",
          "height": 536
        },
        "id": "Jps0pDmWz7mR",
        "outputId": "51a31470-68b6-415e-d99d-536d45833580"
      },
      "source": [
        "df.head()"
      ],
      "execution_count": 15,
      "outputs": [
        {
          "output_type": "execute_result",
          "data": {
            "text/html": [
              "<div>\n",
              "<style scoped>\n",
              "    .dataframe tbody tr th:only-of-type {\n",
              "        vertical-align: middle;\n",
              "    }\n",
              "\n",
              "    .dataframe tbody tr th {\n",
              "        vertical-align: top;\n",
              "    }\n",
              "\n",
              "    .dataframe thead th {\n",
              "        text-align: right;\n",
              "    }\n",
              "</style>\n",
              "<table border=\"1\" class=\"dataframe\">\n",
              "  <thead>\n",
              "    <tr style=\"text-align: right;\">\n",
              "      <th></th>\n",
              "      <th>deceptive</th>\n",
              "      <th>text</th>\n",
              "    </tr>\n",
              "  </thead>\n",
              "  <tbody>\n",
              "    <tr>\n",
              "      <th>0</th>\n",
              "      <td>truthful</td>\n",
              "      <td>We stayed for a one night getaway with family on a thursday. Triple AAA rate of 173 was a steal. 7th floor room complete with 44in plasma TV bose stereo, voss and evian water, and gorgeous bathroom(no tub but was fine for us) Concierge was very helpful. You cannot beat this location... Only flaw was breakfast was pricey and service was very very slow(2hours for four kids and four adults on a friday morning) even though there were only two other tables in the restaurant. Food was very good so it was worth the wait. I would return in a heartbeat. A gem in chicago... \\n</td>\n",
              "    </tr>\n",
              "    <tr>\n",
              "      <th>1</th>\n",
              "      <td>truthful</td>\n",
              "      <td>Triple A rate with upgrade to view room was less than $200 which also included breakfast vouchers. Had a great view of river, lake, Wrigley Bldg. &amp; Tribune Bldg. Most major restaurants, Shopping, Sightseeing attractions within walking distance. Large room with a very comfortable bed. \\n</td>\n",
              "    </tr>\n",
              "    <tr>\n",
              "      <th>2</th>\n",
              "      <td>truthful</td>\n",
              "      <td>This comes a little late as I'm finally catching up on my reviews from the past several months:) A dear friend and I stayed at the Hyatt Regency in late October 2007 for one night while visiting a friend and her husband from out of town. This hotel is perfect, IMO. Easy check in and check out. Lovely, clean, comfortable rooms with great views of the city. I know this area pretty well and it's very convenient to many downtown Chicago attractions. We had dinner and went clubing with our friends around Division St.. We had no problems getting cabs back and forth to the Hyatt and there's even public transportation right near by but we didn't bother since we only needed cabs from and to the hotel. Parking, as is usual for Chicago, was expensive but we were able to get our car out quickly (h...</td>\n",
              "    </tr>\n",
              "    <tr>\n",
              "      <th>3</th>\n",
              "      <td>truthful</td>\n",
              "      <td>The Omni Chicago really delivers on all fronts, from the spaciousness of the rooms to the helpful staff to the prized location on Michigan Avenue. While this address in Chicago requires a high level of quality, the Omni delivers. Check in for myself and a whole group of people with me was under 3 minutes, the staff had plentiful recommendations for dining and events, and the rooms are some of the largest you'll find at this price range in Chicago. Even the 'standard' room has a separate living area and work desk. The fitness center has free weights, weight machines, and two rows of cardio equipment. I shared the room with 7 others and did not feel cramped in any way! All in all, a great property! \\n</td>\n",
              "    </tr>\n",
              "    <tr>\n",
              "      <th>4</th>\n",
              "      <td>truthful</td>\n",
              "      <td>I asked for a high floor away from the elevator and that is what I got. The room was pleasantly decorated, functional and very clean. I didn't need a whole lot of service but when I did they were pleasant and prompt. I used the fitness center which was well equipped and everything was in working order. It is in a great location at one end of the Michigan Avenue shopping district. \\n</td>\n",
              "    </tr>\n",
              "  </tbody>\n",
              "</table>\n",
              "</div>"
            ],
            "text/plain": [
              "  deceptive                                                                                                                                                                                                                                                                                                                                                                                                                                                                                                                                                                                                                                                                                                                                                                                                                             text\n",
              "0  truthful                                                                                                                                                                                                                                    We stayed for a one night getaway with family on a thursday. Triple AAA rate of 173 was a steal. 7th floor room complete with 44in plasma TV bose stereo, voss and evian water, and gorgeous bathroom(no tub but was fine for us) Concierge was very helpful. You cannot beat this location... Only flaw was breakfast was pricey and service was very very slow(2hours for four kids and four adults on a friday morning) even though there were only two other tables in the restaurant. Food was very good so it was worth the wait. I would return in a heartbeat. A gem in chicago... \\n\n",
              "1  truthful                                                                                                                                                                                                                                                                                                                                                                                                                                                                                                                                  Triple A rate with upgrade to view room was less than $200 which also included breakfast vouchers. Had a great view of river, lake, Wrigley Bldg. & Tribune Bldg. Most major restaurants, Shopping, Sightseeing attractions within walking distance. Large room with a very comfortable bed. \\n\n",
              "2  truthful  This comes a little late as I'm finally catching up on my reviews from the past several months:) A dear friend and I stayed at the Hyatt Regency in late October 2007 for one night while visiting a friend and her husband from out of town. This hotel is perfect, IMO. Easy check in and check out. Lovely, clean, comfortable rooms with great views of the city. I know this area pretty well and it's very convenient to many downtown Chicago attractions. We had dinner and went clubing with our friends around Division St.. We had no problems getting cabs back and forth to the Hyatt and there's even public transportation right near by but we didn't bother since we only needed cabs from and to the hotel. Parking, as is usual for Chicago, was expensive but we were able to get our car out quickly (h...\n",
              "3  truthful                                                                                             The Omni Chicago really delivers on all fronts, from the spaciousness of the rooms to the helpful staff to the prized location on Michigan Avenue. While this address in Chicago requires a high level of quality, the Omni delivers. Check in for myself and a whole group of people with me was under 3 minutes, the staff had plentiful recommendations for dining and events, and the rooms are some of the largest you'll find at this price range in Chicago. Even the 'standard' room has a separate living area and work desk. The fitness center has free weights, weight machines, and two rows of cardio equipment. I shared the room with 7 others and did not feel cramped in any way! All in all, a great property! \\n\n",
              "4  truthful                                                                                                                                                                                                                                                                                                                                                                                                                                I asked for a high floor away from the elevator and that is what I got. The room was pleasantly decorated, functional and very clean. I didn't need a whole lot of service but when I did they were pleasant and prompt. I used the fitness center which was well equipped and everything was in working order. It is in a great location at one end of the Michigan Avenue shopping district. \\n"
            ]
          },
          "metadata": {},
          "execution_count": 15
        }
      ]
    },
    {
      "cell_type": "code",
      "metadata": {
        "id": "evQlvnaH6UR0"
      },
      "source": [
        "z = {'truthful' : 1, 'deceptive' : 0}  # 1 for truthful reviews and 0 for deceptive reviews\n",
        "df['deceptive'] = df['deceptive'].map(z)"
      ],
      "execution_count": 16,
      "outputs": []
    },
    {
      "cell_type": "code",
      "metadata": {
        "colab": {
          "base_uri": "https://localhost:8080/",
          "height": 536
        },
        "id": "JZ2P_RjR6VXj",
        "outputId": "c6ecb8c8-ab4b-49fe-b0a0-853ddb22e719"
      },
      "source": [
        "df.head()"
      ],
      "execution_count": 17,
      "outputs": [
        {
          "output_type": "execute_result",
          "data": {
            "text/html": [
              "<div>\n",
              "<style scoped>\n",
              "    .dataframe tbody tr th:only-of-type {\n",
              "        vertical-align: middle;\n",
              "    }\n",
              "\n",
              "    .dataframe tbody tr th {\n",
              "        vertical-align: top;\n",
              "    }\n",
              "\n",
              "    .dataframe thead th {\n",
              "        text-align: right;\n",
              "    }\n",
              "</style>\n",
              "<table border=\"1\" class=\"dataframe\">\n",
              "  <thead>\n",
              "    <tr style=\"text-align: right;\">\n",
              "      <th></th>\n",
              "      <th>deceptive</th>\n",
              "      <th>text</th>\n",
              "    </tr>\n",
              "  </thead>\n",
              "  <tbody>\n",
              "    <tr>\n",
              "      <th>0</th>\n",
              "      <td>1</td>\n",
              "      <td>We stayed for a one night getaway with family on a thursday. Triple AAA rate of 173 was a steal. 7th floor room complete with 44in plasma TV bose stereo, voss and evian water, and gorgeous bathroom(no tub but was fine for us) Concierge was very helpful. You cannot beat this location... Only flaw was breakfast was pricey and service was very very slow(2hours for four kids and four adults on a friday morning) even though there were only two other tables in the restaurant. Food was very good so it was worth the wait. I would return in a heartbeat. A gem in chicago... \\n</td>\n",
              "    </tr>\n",
              "    <tr>\n",
              "      <th>1</th>\n",
              "      <td>1</td>\n",
              "      <td>Triple A rate with upgrade to view room was less than $200 which also included breakfast vouchers. Had a great view of river, lake, Wrigley Bldg. &amp; Tribune Bldg. Most major restaurants, Shopping, Sightseeing attractions within walking distance. Large room with a very comfortable bed. \\n</td>\n",
              "    </tr>\n",
              "    <tr>\n",
              "      <th>2</th>\n",
              "      <td>1</td>\n",
              "      <td>This comes a little late as I'm finally catching up on my reviews from the past several months:) A dear friend and I stayed at the Hyatt Regency in late October 2007 for one night while visiting a friend and her husband from out of town. This hotel is perfect, IMO. Easy check in and check out. Lovely, clean, comfortable rooms with great views of the city. I know this area pretty well and it's very convenient to many downtown Chicago attractions. We had dinner and went clubing with our friends around Division St.. We had no problems getting cabs back and forth to the Hyatt and there's even public transportation right near by but we didn't bother since we only needed cabs from and to the hotel. Parking, as is usual for Chicago, was expensive but we were able to get our car out quickly (h...</td>\n",
              "    </tr>\n",
              "    <tr>\n",
              "      <th>3</th>\n",
              "      <td>1</td>\n",
              "      <td>The Omni Chicago really delivers on all fronts, from the spaciousness of the rooms to the helpful staff to the prized location on Michigan Avenue. While this address in Chicago requires a high level of quality, the Omni delivers. Check in for myself and a whole group of people with me was under 3 minutes, the staff had plentiful recommendations for dining and events, and the rooms are some of the largest you'll find at this price range in Chicago. Even the 'standard' room has a separate living area and work desk. The fitness center has free weights, weight machines, and two rows of cardio equipment. I shared the room with 7 others and did not feel cramped in any way! All in all, a great property! \\n</td>\n",
              "    </tr>\n",
              "    <tr>\n",
              "      <th>4</th>\n",
              "      <td>1</td>\n",
              "      <td>I asked for a high floor away from the elevator and that is what I got. The room was pleasantly decorated, functional and very clean. I didn't need a whole lot of service but when I did they were pleasant and prompt. I used the fitness center which was well equipped and everything was in working order. It is in a great location at one end of the Michigan Avenue shopping district. \\n</td>\n",
              "    </tr>\n",
              "  </tbody>\n",
              "</table>\n",
              "</div>"
            ],
            "text/plain": [
              "   deceptive                                                                                                                                                                                                                                                                                                                                                                                                                                                                                                                                                                                                                                                                                                                                                                                                                             text\n",
              "0          1                                                                                                                                                                                                                                    We stayed for a one night getaway with family on a thursday. Triple AAA rate of 173 was a steal. 7th floor room complete with 44in plasma TV bose stereo, voss and evian water, and gorgeous bathroom(no tub but was fine for us) Concierge was very helpful. You cannot beat this location... Only flaw was breakfast was pricey and service was very very slow(2hours for four kids and four adults on a friday morning) even though there were only two other tables in the restaurant. Food was very good so it was worth the wait. I would return in a heartbeat. A gem in chicago... \\n\n",
              "1          1                                                                                                                                                                                                                                                                                                                                                                                                                                                                                                                                  Triple A rate with upgrade to view room was less than $200 which also included breakfast vouchers. Had a great view of river, lake, Wrigley Bldg. & Tribune Bldg. Most major restaurants, Shopping, Sightseeing attractions within walking distance. Large room with a very comfortable bed. \\n\n",
              "2          1  This comes a little late as I'm finally catching up on my reviews from the past several months:) A dear friend and I stayed at the Hyatt Regency in late October 2007 for one night while visiting a friend and her husband from out of town. This hotel is perfect, IMO. Easy check in and check out. Lovely, clean, comfortable rooms with great views of the city. I know this area pretty well and it's very convenient to many downtown Chicago attractions. We had dinner and went clubing with our friends around Division St.. We had no problems getting cabs back and forth to the Hyatt and there's even public transportation right near by but we didn't bother since we only needed cabs from and to the hotel. Parking, as is usual for Chicago, was expensive but we were able to get our car out quickly (h...\n",
              "3          1                                                                                             The Omni Chicago really delivers on all fronts, from the spaciousness of the rooms to the helpful staff to the prized location on Michigan Avenue. While this address in Chicago requires a high level of quality, the Omni delivers. Check in for myself and a whole group of people with me was under 3 minutes, the staff had plentiful recommendations for dining and events, and the rooms are some of the largest you'll find at this price range in Chicago. Even the 'standard' room has a separate living area and work desk. The fitness center has free weights, weight machines, and two rows of cardio equipment. I shared the room with 7 others and did not feel cramped in any way! All in all, a great property! \\n\n",
              "4          1                                                                                                                                                                                                                                                                                                                                                                                                                                I asked for a high floor away from the elevator and that is what I got. The room was pleasantly decorated, functional and very clean. I didn't need a whole lot of service but when I did they were pleasant and prompt. I used the fitness center which was well equipped and everything was in working order. It is in a great location at one end of the Michigan Avenue shopping district. \\n"
            ]
          },
          "metadata": {},
          "execution_count": 17
        }
      ]
    },
    {
      "cell_type": "code",
      "metadata": {
        "id": "EL0BGdh2ha2p"
      },
      "source": [
        "x = df['text']\n",
        "y = df['deceptive']"
      ],
      "execution_count": 18,
      "outputs": []
    },
    {
      "cell_type": "markdown",
      "metadata": {
        "id": "mWbq-LN1fFyw"
      },
      "source": [
        "### TEXT AUGMENTATION USING SYNONYM REPLACEMENT"
      ]
    },
    {
      "cell_type": "code",
      "metadata": {
        "colab": {
          "base_uri": "https://localhost:8080/"
        },
        "id": "46OvbnGHfEH0",
        "outputId": "14d79377-01bb-400a-84d2-b05bfd6dbb8c"
      },
      "source": [
        "!pip install nlpaug"
      ],
      "execution_count": 19,
      "outputs": [
        {
          "output_type": "stream",
          "name": "stdout",
          "text": [
            "Collecting nlpaug\n",
            "  Downloading nlpaug-1.1.7-py3-none-any.whl (405 kB)\n",
            "\u001b[?25l\r\u001b[K     |▉                               | 10 kB 24.3 MB/s eta 0:00:01\r\u001b[K     |█▋                              | 20 kB 28.9 MB/s eta 0:00:01\r\u001b[K     |██▍                             | 30 kB 23.3 MB/s eta 0:00:01\r\u001b[K     |███▎                            | 40 kB 18.2 MB/s eta 0:00:01\r\u001b[K     |████                            | 51 kB 10.4 MB/s eta 0:00:01\r\u001b[K     |████▉                           | 61 kB 8.7 MB/s eta 0:00:01\r\u001b[K     |█████▋                          | 71 kB 9.5 MB/s eta 0:00:01\r\u001b[K     |██████▌                         | 81 kB 10.6 MB/s eta 0:00:01\r\u001b[K     |███████▎                        | 92 kB 8.7 MB/s eta 0:00:01\r\u001b[K     |████████                        | 102 kB 9.4 MB/s eta 0:00:01\r\u001b[K     |█████████                       | 112 kB 9.4 MB/s eta 0:00:01\r\u001b[K     |█████████▊                      | 122 kB 9.4 MB/s eta 0:00:01\r\u001b[K     |██████████▌                     | 133 kB 9.4 MB/s eta 0:00:01\r\u001b[K     |███████████▎                    | 143 kB 9.4 MB/s eta 0:00:01\r\u001b[K     |████████████▏                   | 153 kB 9.4 MB/s eta 0:00:01\r\u001b[K     |█████████████                   | 163 kB 9.4 MB/s eta 0:00:01\r\u001b[K     |█████████████▊                  | 174 kB 9.4 MB/s eta 0:00:01\r\u001b[K     |██████████████▋                 | 184 kB 9.4 MB/s eta 0:00:01\r\u001b[K     |███████████████▍                | 194 kB 9.4 MB/s eta 0:00:01\r\u001b[K     |████████████████▏               | 204 kB 9.4 MB/s eta 0:00:01\r\u001b[K     |█████████████████               | 215 kB 9.4 MB/s eta 0:00:01\r\u001b[K     |█████████████████▉              | 225 kB 9.4 MB/s eta 0:00:01\r\u001b[K     |██████████████████▋             | 235 kB 9.4 MB/s eta 0:00:01\r\u001b[K     |███████████████████▍            | 245 kB 9.4 MB/s eta 0:00:01\r\u001b[K     |████████████████████▎           | 256 kB 9.4 MB/s eta 0:00:01\r\u001b[K     |█████████████████████           | 266 kB 9.4 MB/s eta 0:00:01\r\u001b[K     |█████████████████████▉          | 276 kB 9.4 MB/s eta 0:00:01\r\u001b[K     |██████████████████████▋         | 286 kB 9.4 MB/s eta 0:00:01\r\u001b[K     |███████████████████████▌        | 296 kB 9.4 MB/s eta 0:00:01\r\u001b[K     |████████████████████████▎       | 307 kB 9.4 MB/s eta 0:00:01\r\u001b[K     |█████████████████████████       | 317 kB 9.4 MB/s eta 0:00:01\r\u001b[K     |█████████████████████████▉      | 327 kB 9.4 MB/s eta 0:00:01\r\u001b[K     |██████████████████████████▊     | 337 kB 9.4 MB/s eta 0:00:01\r\u001b[K     |███████████████████████████▌    | 348 kB 9.4 MB/s eta 0:00:01\r\u001b[K     |████████████████████████████▎   | 358 kB 9.4 MB/s eta 0:00:01\r\u001b[K     |█████████████████████████████▏  | 368 kB 9.4 MB/s eta 0:00:01\r\u001b[K     |██████████████████████████████  | 378 kB 9.4 MB/s eta 0:00:01\r\u001b[K     |██████████████████████████████▊ | 389 kB 9.4 MB/s eta 0:00:01\r\u001b[K     |███████████████████████████████▌| 399 kB 9.4 MB/s eta 0:00:01\r\u001b[K     |████████████████████████████████| 405 kB 9.4 MB/s \n",
            "\u001b[?25hInstalling collected packages: nlpaug\n",
            "Successfully installed nlpaug-1.1.7\n"
          ]
        }
      ]
    },
    {
      "cell_type": "code",
      "metadata": {
        "colab": {
          "base_uri": "https://localhost:8080/"
        },
        "id": "MTLstvkjfENI",
        "outputId": "deb4765a-c537-417e-d9a8-9b76fab6d972"
      },
      "source": [
        "from nltk.stem import PorterStemmer\n",
        "from nltk.tokenize import TweetTokenizer\n",
        "from nltk.stem import WordNetLemmatizer\n",
        "\n",
        "import nlpaug.augmenter.char as nac\n",
        "import nlpaug.augmenter.word as naw\n",
        "import nlpaug.augmenter.sentence as nas\n",
        "import nlpaug.flow as nafc\n",
        "nltk.download('averaged_perceptron_tagger')\n",
        "\n",
        "from nlpaug.util import Action"
      ],
      "execution_count": 20,
      "outputs": [
        {
          "output_type": "stream",
          "name": "stdout",
          "text": [
            "[nltk_data] Downloading package averaged_perceptron_tagger to\n",
            "[nltk_data]     /root/nltk_data...\n",
            "[nltk_data]   Unzipping taggers/averaged_perceptron_tagger.zip.\n"
          ]
        }
      ]
    },
    {
      "cell_type": "code",
      "metadata": {
        "id": "BEtT_9n-fERu"
      },
      "source": [
        "aug = naw.SynonymAug(aug_src='wordnet',aug_max=5)"
      ],
      "execution_count": 21,
      "outputs": []
    },
    {
      "cell_type": "code",
      "metadata": {
        "id": "oNb84u4ZfEXf"
      },
      "source": [
        "augmented_sentences=[]\n",
        "augmented_sentences_labels=[]\n",
        "for i in x.index:\n",
        "  if y[i]==0:\n",
        "    temps=aug.augment(x[i],n=10)\n",
        "    for sent in temps:\n",
        "      augmented_sentences.append(sent)\n",
        "      augmented_sentences_labels.append(0)\n",
        "  else :\n",
        "    temps=aug.augment(x[i],n=10)\n",
        "    for sent in temps:\n",
        "      augmented_sentences.append(sent)\n",
        "      augmented_sentences_labels.append(1)"
      ],
      "execution_count": 22,
      "outputs": []
    },
    {
      "cell_type": "code",
      "metadata": {
        "id": "sz5DM8fwfEbs"
      },
      "source": [
        "# after augumenting, our dataset is multiplied with 10 times.\n",
        "x=x.append(pd.Series(augmented_sentences),ignore_index=True)\n",
        "y=y.append(pd.Series(augmented_sentences_labels),ignore_index=True)"
      ],
      "execution_count": 23,
      "outputs": []
    },
    {
      "cell_type": "code",
      "metadata": {
        "colab": {
          "base_uri": "https://localhost:8080/",
          "height": 536
        },
        "id": "TGoogogGfEgM",
        "outputId": "958dffa8-e471-4da0-8d59-587b829a28b3"
      },
      "source": [
        "df1=pd.DataFrame({'review':x,'sentiment':y})\n",
        "df1.head()"
      ],
      "execution_count": 24,
      "outputs": [
        {
          "output_type": "execute_result",
          "data": {
            "text/html": [
              "<div>\n",
              "<style scoped>\n",
              "    .dataframe tbody tr th:only-of-type {\n",
              "        vertical-align: middle;\n",
              "    }\n",
              "\n",
              "    .dataframe tbody tr th {\n",
              "        vertical-align: top;\n",
              "    }\n",
              "\n",
              "    .dataframe thead th {\n",
              "        text-align: right;\n",
              "    }\n",
              "</style>\n",
              "<table border=\"1\" class=\"dataframe\">\n",
              "  <thead>\n",
              "    <tr style=\"text-align: right;\">\n",
              "      <th></th>\n",
              "      <th>review</th>\n",
              "      <th>sentiment</th>\n",
              "    </tr>\n",
              "  </thead>\n",
              "  <tbody>\n",
              "    <tr>\n",
              "      <th>0</th>\n",
              "      <td>We stayed for a one night getaway with family on a thursday. Triple AAA rate of 173 was a steal. 7th floor room complete with 44in plasma TV bose stereo, voss and evian water, and gorgeous bathroom(no tub but was fine for us) Concierge was very helpful. You cannot beat this location... Only flaw was breakfast was pricey and service was very very slow(2hours for four kids and four adults on a friday morning) even though there were only two other tables in the restaurant. Food was very good so it was worth the wait. I would return in a heartbeat. A gem in chicago... \\n</td>\n",
              "      <td>1</td>\n",
              "    </tr>\n",
              "    <tr>\n",
              "      <th>1</th>\n",
              "      <td>Triple A rate with upgrade to view room was less than $200 which also included breakfast vouchers. Had a great view of river, lake, Wrigley Bldg. &amp; Tribune Bldg. Most major restaurants, Shopping, Sightseeing attractions within walking distance. Large room with a very comfortable bed. \\n</td>\n",
              "      <td>1</td>\n",
              "    </tr>\n",
              "    <tr>\n",
              "      <th>2</th>\n",
              "      <td>This comes a little late as I'm finally catching up on my reviews from the past several months:) A dear friend and I stayed at the Hyatt Regency in late October 2007 for one night while visiting a friend and her husband from out of town. This hotel is perfect, IMO. Easy check in and check out. Lovely, clean, comfortable rooms with great views of the city. I know this area pretty well and it's very convenient to many downtown Chicago attractions. We had dinner and went clubing with our friends around Division St.. We had no problems getting cabs back and forth to the Hyatt and there's even public transportation right near by but we didn't bother since we only needed cabs from and to the hotel. Parking, as is usual for Chicago, was expensive but we were able to get our car out quickly (h...</td>\n",
              "      <td>1</td>\n",
              "    </tr>\n",
              "    <tr>\n",
              "      <th>3</th>\n",
              "      <td>The Omni Chicago really delivers on all fronts, from the spaciousness of the rooms to the helpful staff to the prized location on Michigan Avenue. While this address in Chicago requires a high level of quality, the Omni delivers. Check in for myself and a whole group of people with me was under 3 minutes, the staff had plentiful recommendations for dining and events, and the rooms are some of the largest you'll find at this price range in Chicago. Even the 'standard' room has a separate living area and work desk. The fitness center has free weights, weight machines, and two rows of cardio equipment. I shared the room with 7 others and did not feel cramped in any way! All in all, a great property! \\n</td>\n",
              "      <td>1</td>\n",
              "    </tr>\n",
              "    <tr>\n",
              "      <th>4</th>\n",
              "      <td>I asked for a high floor away from the elevator and that is what I got. The room was pleasantly decorated, functional and very clean. I didn't need a whole lot of service but when I did they were pleasant and prompt. I used the fitness center which was well equipped and everything was in working order. It is in a great location at one end of the Michigan Avenue shopping district. \\n</td>\n",
              "      <td>1</td>\n",
              "    </tr>\n",
              "  </tbody>\n",
              "</table>\n",
              "</div>"
            ],
            "text/plain": [
              "                                                                                                                                                                                                                                                                                                                                                                                                                                                                                                                                                                                                                                                                                                                                                                                                                            review  sentiment\n",
              "0                                                                                                                                                                                                                                    We stayed for a one night getaway with family on a thursday. Triple AAA rate of 173 was a steal. 7th floor room complete with 44in plasma TV bose stereo, voss and evian water, and gorgeous bathroom(no tub but was fine for us) Concierge was very helpful. You cannot beat this location... Only flaw was breakfast was pricey and service was very very slow(2hours for four kids and four adults on a friday morning) even though there were only two other tables in the restaurant. Food was very good so it was worth the wait. I would return in a heartbeat. A gem in chicago... \\n          1\n",
              "1                                                                                                                                                                                                                                                                                                                                                                                                                                                                                                                                  Triple A rate with upgrade to view room was less than $200 which also included breakfast vouchers. Had a great view of river, lake, Wrigley Bldg. & Tribune Bldg. Most major restaurants, Shopping, Sightseeing attractions within walking distance. Large room with a very comfortable bed. \\n          1\n",
              "2  This comes a little late as I'm finally catching up on my reviews from the past several months:) A dear friend and I stayed at the Hyatt Regency in late October 2007 for one night while visiting a friend and her husband from out of town. This hotel is perfect, IMO. Easy check in and check out. Lovely, clean, comfortable rooms with great views of the city. I know this area pretty well and it's very convenient to many downtown Chicago attractions. We had dinner and went clubing with our friends around Division St.. We had no problems getting cabs back and forth to the Hyatt and there's even public transportation right near by but we didn't bother since we only needed cabs from and to the hotel. Parking, as is usual for Chicago, was expensive but we were able to get our car out quickly (h...          1\n",
              "3                                                                                             The Omni Chicago really delivers on all fronts, from the spaciousness of the rooms to the helpful staff to the prized location on Michigan Avenue. While this address in Chicago requires a high level of quality, the Omni delivers. Check in for myself and a whole group of people with me was under 3 minutes, the staff had plentiful recommendations for dining and events, and the rooms are some of the largest you'll find at this price range in Chicago. Even the 'standard' room has a separate living area and work desk. The fitness center has free weights, weight machines, and two rows of cardio equipment. I shared the room with 7 others and did not feel cramped in any way! All in all, a great property! \\n          1\n",
              "4                                                                                                                                                                                                                                                                                                                                                                                                                                I asked for a high floor away from the elevator and that is what I got. The room was pleasantly decorated, functional and very clean. I didn't need a whole lot of service but when I did they were pleasant and prompt. I used the fitness center which was well equipped and everything was in working order. It is in a great location at one end of the Michigan Avenue shopping district. \\n          1"
            ]
          },
          "metadata": {},
          "execution_count": 24
        }
      ]
    },
    {
      "cell_type": "code",
      "metadata": {
        "colab": {
          "base_uri": "https://localhost:8080/"
        },
        "id": "pKHntir2fEld",
        "outputId": "4f269c9c-9da4-4503-ce5b-0dddf483773c"
      },
      "source": [
        "df1.shape"
      ],
      "execution_count": 25,
      "outputs": [
        {
          "output_type": "execute_result",
          "data": {
            "text/plain": [
              "(17600, 2)"
            ]
          },
          "metadata": {},
          "execution_count": 25
        }
      ]
    },
    {
      "cell_type": "markdown",
      "metadata": {
        "id": "mSyqr_dKcXWW"
      },
      "source": [
        "### DATA PREPROCESSING USING SPACY"
      ]
    },
    {
      "cell_type": "markdown",
      "metadata": {
        "id": "k7VbzIVJWXGp"
      },
      "source": [
        "As we are using spaCy, to train our model let’s import the package. After importing, you can load a pre-trained model like \"en_core_web_sm\". We will be adding / modifying the text classifier to this model later. For any spaCy model, you can view the pipeline components present in the current pipeline through pipe_names method."
      ]
    },
    {
      "cell_type": "code",
      "metadata": {
        "colab": {
          "base_uri": "https://localhost:8080/",
          "height": 36
        },
        "id": "zGTgZZVJLrx5",
        "outputId": "945b83c6-194e-494f-fd7a-110a3542a266"
      },
      "source": [
        "import string\n",
        "punct = string.punctuation\n",
        "punct"
      ],
      "execution_count": 26,
      "outputs": [
        {
          "output_type": "execute_result",
          "data": {
            "application/vnd.google.colaboratory.intrinsic+json": {
              "type": "string"
            },
            "text/plain": [
              "'!\"#$%&\\'()*+,-./:;<=>?@[\\\\]^_`{|}~'"
            ]
          },
          "metadata": {},
          "execution_count": 26
        }
      ]
    },
    {
      "cell_type": "code",
      "metadata": {
        "id": "FZ0XM7exNC-5"
      },
      "source": [
        "from nltk.corpus import stopwords\n",
        "stopwords = nltk.corpus.stopwords.words('english')"
      ],
      "execution_count": 27,
      "outputs": []
    },
    {
      "cell_type": "code",
      "metadata": {
        "id": "WZUmwQSo5O6H",
        "colab": {
          "base_uri": "https://localhost:8080/"
        },
        "outputId": "8ebbd925-829e-4490-8cce-261a0feabe10"
      },
      "source": [
        "# Loading a Spacy pretrained model\n",
        "nlp=spacy.load(\"en_core_web_sm\")\n",
        "nlp.pipe_names"
      ],
      "execution_count": 28,
      "outputs": [
        {
          "output_type": "execute_result",
          "data": {
            "text/plain": [
              "['tagger', 'parser', 'ner']"
            ]
          },
          "metadata": {},
          "execution_count": 28
        }
      ]
    },
    {
      "cell_type": "markdown",
      "metadata": {
        "id": "ZUPJKO8oWq5g"
      },
      "source": [
        "We can see that the pipeline has tagger, parser and NER[Named Entity Recognition]. It doesn’t have a text classifier. So, let’s just add the built-in textcat pipeline component of spaCy for text classification to our pipeline. The add_pipe() method can be used for this."
      ]
    },
    {
      "cell_type": "code",
      "metadata": {
        "colab": {
          "base_uri": "https://localhost:8080/"
        },
        "id": "CzRRaFTO2weM",
        "outputId": "4175c596-73ee-49ef-a633-b7135266f56a"
      },
      "source": [
        "# Adding the built-in textcat component to the pipeline.\n",
        "# Now, we are going to train the textcat with our text dataset using the simple_cnn architecture.\n",
        "textcat=nlp.create_pipe( \"textcat\", config={\"exclusive_classes\": True, \"architecture\": \"simple_cnn\"})\n",
        "nlp.add_pipe(textcat, last=True)\n",
        "nlp.pipe_names"
      ],
      "execution_count": 29,
      "outputs": [
        {
          "output_type": "execute_result",
          "data": {
            "text/plain": [
              "['tagger', 'parser', 'ner', 'textcat']"
            ]
          },
          "metadata": {},
          "execution_count": 29
        }
      ]
    },
    {
      "cell_type": "markdown",
      "metadata": {
        "id": "pF2QYnNbXNx_"
      },
      "source": [
        "First, we need to add the desired labels to the pipeline component. In this case, it is POSITIVE and NEGATIVE as per the reviews. Add these labels to textcat using add_label function."
      ]
    },
    {
      "cell_type": "code",
      "metadata": {
        "colab": {
          "base_uri": "https://localhost:8080/"
        },
        "id": "FVAqKRkl2wjY",
        "outputId": "a21c24a9-ab91-4d48-80c8-eb8c681ac6aa"
      },
      "source": [
        "# Adding the labels to textcat\n",
        "textcat.add_label(\"POSITIVE\")\n",
        "textcat.add_label(\"NEGATIVE\")"
      ],
      "execution_count": 30,
      "outputs": [
        {
          "output_type": "execute_result",
          "data": {
            "text/plain": [
              "1"
            ]
          },
          "metadata": {},
          "execution_count": 30
        }
      ]
    },
    {
      "cell_type": "markdown",
      "metadata": {
        "id": "EXuYxz5NXYW_"
      },
      "source": [
        "Our default model with textcat is ready. We just need to prepare the data in the required format.\n",
        "\n",
        "We write a function load_data() which takes a list of tuples as input. Each tuple contains the text and label value( 0 or 1 ). The below code demonstrates how to convert our reviews data set into this desired format"
      ]
    },
    {
      "cell_type": "code",
      "metadata": {
        "colab": {
          "base_uri": "https://localhost:8080/"
        },
        "id": "PO78OImxCFia",
        "outputId": "354ad2ae-412a-491a-c51e-e96276d78ee8"
      },
      "source": [
        "# Converting the dataframe into a list of tuples\n",
        "df1['tuples'] = df1.apply(lambda row: (row['review'],row['sentiment']), axis=1)\n",
        "train =df1['tuples'].tolist()\n",
        "train[:10]"
      ],
      "execution_count": 31,
      "outputs": [
        {
          "output_type": "execute_result",
          "data": {
            "text/plain": [
              "[('We stayed for a one night getaway with family on a thursday. Triple AAA rate of 173 was a steal. 7th floor room complete with 44in plasma TV bose stereo, voss and evian water, and gorgeous bathroom(no tub but was fine for us) Concierge was very helpful. You cannot beat this location... Only flaw was breakfast was pricey and service was very very slow(2hours for four kids and four adults on a friday morning) even though there were only two other tables in the restaurant. Food was very good so it was worth the wait. I would return in a heartbeat. A gem in chicago... \\n',\n",
              "  1),\n",
              " ('Triple A rate with upgrade to view room was less than $200 which also included breakfast vouchers. Had a great view of river, lake, Wrigley Bldg. & Tribune Bldg. Most major restaurants, Shopping, Sightseeing attractions within walking distance. Large room with a very comfortable bed. \\n',\n",
              "  1),\n",
              " (\"This comes a little late as I'm finally catching up on my reviews from the past several months:) A dear friend and I stayed at the Hyatt Regency in late October 2007 for one night while visiting a friend and her husband from out of town. This hotel is perfect, IMO. Easy check in and check out. Lovely, clean, comfortable rooms with great views of the city. I know this area pretty well and it's very convenient to many downtown Chicago attractions. We had dinner and went clubing with our friends around Division St.. We had no problems getting cabs back and forth to the Hyatt and there's even public transportation right near by but we didn't bother since we only needed cabs from and to the hotel. Parking, as is usual for Chicago, was expensive but we were able to get our car out quickly (however, we left on a Sunday morning, not exactly a high traffic time although it was a Bears homegame day, so a bit busier than usual I would think). No problems at all and the best part is that we got a rate of $100 through Hotwire, a downright steal for this area of Chicago and the quality of the hotel. \\n\",\n",
              "  1),\n",
              " (\"The Omni Chicago really delivers on all fronts, from the spaciousness of the rooms to the helpful staff to the prized location on Michigan Avenue. While this address in Chicago requires a high level of quality, the Omni delivers. Check in for myself and a whole group of people with me was under 3 minutes, the staff had plentiful recommendations for dining and events, and the rooms are some of the largest you'll find at this price range in Chicago. Even the 'standard' room has a separate living area and work desk. The fitness center has free weights, weight machines, and two rows of cardio equipment. I shared the room with 7 others and did not feel cramped in any way! All in all, a great property! \\n\",\n",
              "  1),\n",
              " (\"I asked for a high floor away from the elevator and that is what I got. The room was pleasantly decorated, functional and very clean. I didn't need a whole lot of service but when I did they were pleasant and prompt. I used the fitness center which was well equipped and everything was in working order. It is in a great location at one end of the Michigan Avenue shopping district. \\n\",\n",
              "  1),\n",
              " (\"I stayed at the Omni for one night following a business meeting at another downtown Chicago hotel. I was completely impressed by the service; all personnel during my stay were absolutely outstanding. I checked in quite early (no problem) and was efficiently checked in. My room had a somewhat heavy scent of air freshener (the ONLY negative from the entire stay), which was managed reasonably well by opening the windows. I don't generally require much during my hotel stays, but suffice to say the doorman, housekeeping, the night manager and bartender at 676, the day waiter at 676, and the concierge were amazing - I never waited more than about 30 seconds for anything. The room was very comfy and the amenities were superior. One very tiny complaint - there was no wastebasket near the sink or near the wet bar - had to walk to the other end of the bathroom or sitting room to dispose of kleenex/coffee paraphernalia. One wastebasket would make all the difference. All that said - what a great hotel!! Thanks, Omni - I had a great stay! \\n\",\n",
              "  1),\n",
              " ('We stayed in the Conrad for 4 nights just before Thanksgiving. We had a corner room overlooking N Michigan Av and the Tribune Building. To say this is a 5 star hotel is to damn this place with faint praise - it is wonderful. The staff were unbelievably helpful. The standard of the room was superb - HD plasma screens, luxury bedlinens, iPod radio, huge bathroom. Location is unbeatable - right in the heart of everything - watched the whole Light Festival parade from the window. Breakfasts were excellent - no help yourself buffet here - with full and attentive table service. Would have no hesitation recommending or staying again in this hotel - 5 out of 5. \\n',\n",
              "  1),\n",
              " ('Just got back from 2 days up in Chicago shopping with girlfriends. First time I have stayed at the Omni. I did so because I saw a $129.00 rate that included $25.00 of free food on Travelzoo. The three of us (55 year olds) all stayed in one suite with 2 double beds and a VERY comfortable pull out sofa. We had plenty of room. Food in the restaurant was great, service was outstanding from everone we came into contact with, early morning delivery of free coffee, juice and hot chocolate was fabulous and recommendations from the staff on where to eat, time of movies, shopping areas, etc was really helpful. Need I mention the outstanding location? Simply the best! We all decided that the Omni is our new favorite hotel. \\n',\n",
              "  1),\n",
              " (\"We arrived at the Omni on 2nd September for a 6 day stay. I took ill when I left the plane after travelling from Manchester so I saw more of the room than I anticipated. I couldn't go out for 4 days. The room was spacious and clean. The bed was extremely comfortable. The bathroom was large and very clean. What more could you ask. We had coffee and juice left outside our door every morning at the time we requested. I managed to go to the 5th floor to see the sun terrace (outside the gym) Having a sun terrace in a city hotel is a great idea but the terrace was a bit grim. A few sunbeds on a concrete floor. There was also noise from an air conditioning unit. It could do with a bit of cheering up. What I saw of Chicago was very pleasing, it has something for everyone. Would I go back to the Omni? yes I would. \\n\",\n",
              "  1),\n",
              " ('On our visit to Chicago, we chose the Hyatt due to its location in downtown, within walking distance to most major attractions, such as Sears Tower, Magnificent Mile, Grant/Millenium Parks, etc. Subway & bus stops very close by to travel to other locations in the city . Overall the hotel was very nice, clean, and at a great location. Was in a safe area. Went to beautiful Wrigley Field and Soldier Field and saw both teams play. I love Chicago and would defenitely stay here again! \\n',\n",
              "  1)]"
            ]
          },
          "metadata": {},
          "execution_count": 31
        }
      ]
    },
    {
      "cell_type": "markdown",
      "metadata": {
        "id": "dFtxTODjXlQS"
      },
      "source": [
        "Next, We pass the train data as input to a load_data() function.\n",
        "\n",
        "The load_data() function performs the below functions:\n",
        "1. Shuffle the data using random.shuffle() function This prevents any training based on the order of examples.\n",
        "2. For each tuple in the input data , category is assigned as ‘POSITIVE’ or ‘NEGATIVE’ based on the label value and stored in cats\n",
        "3. 80 % of the input data will be used for training, whereas 20% for evaluation. "
      ]
    },
    {
      "cell_type": "markdown",
      "metadata": {
        "id": "rOM0FdysYN7k"
      },
      "source": [
        "After defining the function , pass the list of tuples train to the above function. The function will return the texts and cats for both training and evaluation. "
      ]
    },
    {
      "cell_type": "code",
      "metadata": {
        "colab": {
          "base_uri": "https://localhost:8080/"
        },
        "id": "ZXQMgVIzas-a",
        "outputId": "8b451334-287e-432f-b9a6-ba3ed3faa236"
      },
      "source": [
        "import random\n",
        "\n",
        "def load_data(limit=0, split=0.8):\n",
        "    train_data=train\n",
        "    # Shuffle the data\n",
        "    random.shuffle(train_data)\n",
        "    texts, labels = zip(*train_data)\n",
        "    # get the categories for each review\n",
        "    cats = [{\"POSITIVE\": bool(y), \"NEGATIVE\": not bool(y)} for y in labels]\n",
        "\n",
        "    # Splitting the training and evaluation data\n",
        "    split = int(len(train_data) * split)\n",
        "    return (texts[:split], cats[:split]), (texts[split:], cats[split:])\n",
        "\n",
        "n_texts=17600\n",
        "\n",
        "# Calling the load_data() function \n",
        "(train_texts, train_cats), (dev_texts, dev_cats) = load_data(limit=n_texts)\n",
        "\n",
        "# Processing the final format of training data\n",
        "train_data = list(zip(train_texts,[{'cats': cats} for cats in train_cats]))\n",
        "train_data[:10]"
      ],
      "execution_count": 32,
      "outputs": [
        {
          "output_type": "execute_result",
          "data": {
            "text/plain": [
              "[('This is the hotel for the discriminating business traveler. It offers spacious rooms that are elegant and refined. With a cozy area complete with chairs and fireplace, they are the perfect place to think about clients or discuss strategy for a business meeting with a co worker. The restaurant offers just the emplacement to impress a perspective client. And all of this elegance and refinement in the heart of downtown Chicago',\n",
              "  {'cats': {'NEGATIVE': True, 'POSITIVE': False}}),\n",
              " (\"I stayed at the Chicago Hilton because it was host to a conference I was attending. Before I arrived I tried to find out about the ' In Room Fitness ' program advertize on the corporate website. I called the 800 reservation number and the client service representative answered that the hotel did have a fitness center. I explained that I was inquiring about the ' In Room Fitness ' advertised on their website. She put me on hold and came back a few minutes later and told me that there was no such thing and that I should call the property directly. I did and got the same response. I asked if they could reserve a treadmill for my room. Again, this was a problem. When I arrived at the hotel, no treadmill was available. When I went to tour the fitness room the first night I found that they close at 9pm. When I returned to the center the following day I discovered that they charge $ 13 per day to use the fitness equipment. The pool, track and locker room are free, but to use the treadmills, etc. you have to pay $ 13 per day. This charge is not noted anywhere - - not on the website, not in any of the guest service materials in the room. The food for the conference was mediocre, but the one room service meal I had was pretty good. During one of the conference lunch sessions the postponement staff made so much noise we couldn ' t hear the speaker. The HVAC didn ' t work well in my room and I kept the windows open for most of my three dark stay. The beds were comfortable with very nice linens. I tried to get a late checkout, which was offered on a card in my room. The woman who answered the phone would only give me an hour, not the 11 - 2pm range advertised in my room. The best service I received was from the folks in the Security office. The hotel does not have safes in guest rooms, so I became very friendly with Security office as I locked up my laptop between conference sessions and every other time 1 couldn ' t carry it out of the hotel. I visit Chicago at least once a year for personal travel and will continue to stay at the Marriott properties. Only wish I had done so for this visit.\",\n",
              "  {'cats': {'NEGATIVE': False, 'POSITIVE': True}}),\n",
              " (\"My wife and I brought our daughter downtown for a blowout ' American Girl ' Weekend and chose the Monaco because of it ' s glowing reviews. We arrived late and maybe that ' s when they put out their second - stringers, but we felt unwelcome by the desk staff - - like we were an intrusion. I ' ll never understand this - - they ' re in the hospitality business and they ' re inhospitable! (This is getting picky, but the reception desk which is cleverly designed to look like a vintage Louis Vuitton trunk needs some maintenance. The repeated ' hectometer ' initials are peeling off - - looks like they used rub - downs where they should have silk screened for durability ). When we got to our room we found the maiden ' s ratty work shoes at the pes of the bed (yuck! ). I ' m still trying to figure out that scenario. There were no ashes - - so I ' ve ruled out spontaneous combustion. Also, to the disappointment of my daughter, the much - advertised goldfish was MIA. The bellhop (who apologized for the shoes) explained that they take away the fish when they turn down the bed '. .. is that OK? ' he said. I think the proper response at a hotel like this would have been to bring up a stinking 35C / fish to make a tired 5 - year - old happy. On the up side, the rooms cost nice and have an over - the - top decoration that my daughter loved (' I ' d like to live here! ' she said ). The bed is VERY comfortable - - my wife wants the same brand now. The bathroom is nicely appointed with quality materials and good strong shower - - except for the cheap fall - apart - while - you ' re - using - it toilet paper. Come on Kimpton! How much can a decent roll cost? The view towards the river is great (try to get one) and my daughter loved the upholstered wide ledge by the window - - she closed the curtains and was in her own ' club house ' watching the world go by from from high above the city. In short: very nice hotel - - desk staff at night could be nicer (wouldn ' t cost anything and would have made up for the maid ' s shoes! )\",\n",
              "  {'cats': {'NEGATIVE': False, 'POSITIVE': True}}),\n",
              " ('the experince at the hard rock hotel in chicago was fantastic,i will rate them a 6 out of 5. they have wonderful service and great staff and the view is just wonderful.\\n',\n",
              "  {'cats': {'NEGATIVE': True, 'POSITIVE': False}}),\n",
              " ('Stayed in old tower. Room was nice and room service was very good. Room Wi - Fi was expensive as was the bottled water. For the price of the room, at least there should at least have been water. I would rate the value as sub - par. The restaurant menu was not great, food mediocre by comparison to other downtown Chicago restaurants and the service was below average especially since there were only three table in use in the entire restaurant. . In summary, I will go to the M. .. or H. .. next time. Some of the above comments are based on a previous week resort stay on the outer banks of North Carolina and earlier this year in Northern California. P. S. If you embody a fitness room user, the $ 16 per stay per person is a good deal at this hotel.',\n",
              "  {'cats': {'NEGATIVE': False, 'POSITIVE': True}}),\n",
              " (\"My husband and I recently chose the Palmer House Hilton for a rare couple ' s getaway from our usual life, and an escape it truly provided. There is something to be said for all the modern amenities combined with an aesthetic drawn from a grander and more luxurious time, let alone with ever - elusive accessibility for a wheelchair user! A bonus was that we did not need to feel like we must lug half our usual household with us, because things like alarm clocks, hairdryers and ironing boards were already there, electronic media even available for rent. With a comfortable bed, control over how the room felt, no need to search elsewhere for coffee and excellent room service at our beck and birdsong, we had to remind ourselves that we had planned to leave our room to take advantage of all the Chicago culture in close proximity. Too often a hotel is an overpriced way to get out of making your own bed in the morning, but the Hilton was a true vacation. Thank you.\",\n",
              "  {'cats': {'NEGATIVE': True, 'POSITIVE': False}}),\n",
              " (\"This be one of the best hotels I ' ve stayed at in Chicago. I ' ve likewise tried Amalfi and a number of large ernst boris chain hotel downtown. This one was the best. Great service, beautiful room, roomy bathroom, top - notch amenities.\",\n",
              "  {'cats': {'NEGATIVE': False, 'POSITIVE': True}}),\n",
              " (\"There were many positive degree when staying in this hotel at the north end of the Magnificant Mile. The rooms were spacious and beautifully appointed with great attention to detail. The quality of service was excellent, the staff professional, and the location was perfect. There are great views of Chicago from many of the rooms. The staff seemed to care about the quality of my stay from the moment I was greeted upon arrival to the moment I got in my taxi to leave. There is a nice rooftop saloon / restaurant perfect for a lite meal or a refreshing cocktail with great views of the city. There really weren ' t any negatives and I would recommend this boutique hotel to anyone stay in the Chicago area.\",\n",
              "  {'cats': {'NEGATIVE': True, 'POSITIVE': False}}),\n",
              " (\"First let me say, the front office people at Hotel Monaco are wonderful and the location of the hotel was just what I ' d hoped. There are some other problems; the furnishings are quite rundown, and housekeeping wasn ' t very helpful. We booked a suite and the sofa bed, chair and coffee table in the living elbow room area had all had some very hard use. I ' ve attached pictures, so you can see the considerable gap in the sofa and the lack of pillows. Comfortable it was not! The chair bottom is all broken down too. I invited one of the Assistant Managers to view our furniture, and a slight adjustment was made in our rate. As to housekeeping, we had ordered an in - room coffee service (which Kimpton ' s web site says is there, but you have to specifically request) and at no time did housekeeping leave us coffee. We had to call the front desk every day. And, housekeeping neglected our fish and on our next to last daylight we found it floating dead at the top of the fish bowl. I had requested water be added to the bowl when I noticed it going down and my note was disregarded. These things may not matter to you, but if you plan to spend a week, like we did, you might want to be comfortable. The bedroom and bathroom were superior; just the living room was bad.\",\n",
              "  {'cats': {'NEGATIVE': False, 'POSITIVE': True}}),\n",
              " ('We loved our stay at the Talbott. We were in Chicago to attend the theater show Dirty Dancing. We booked our room through with Orbitz and received a nice discount. When we arrived at the hotel everyone from the doorman to the front desk to the maids were highly professional and courtesy. We were upgraded to a King bed suite. The suite was well decorated and spacious. My wife particularily enjoyed the heat that could be directed at the marble floor in the bathroom. We loved the hotel and will definitely persist at the Talbott on our next trip to Chicago. Highly recommended.',\n",
              "  {'cats': {'NEGATIVE': False, 'POSITIVE': True}})]"
            ]
          },
          "metadata": {},
          "execution_count": 32
        }
      ]
    },
    {
      "cell_type": "markdown",
      "metadata": {
        "id": "eFozZMHaYfge"
      },
      "source": [
        "Till now, we have prepared the training data in the desired format and stored it in train_data variable. evaluate() function will take the textcat, and the evaluation data as input. For each of the text in evaluation data, it reads the score from the predictions made. And based on this, it calculates the values of True positive, True negative, False positive and false negative."
      ]
    },
    {
      "cell_type": "code",
      "metadata": {
        "id": "laJxSxQZbKPR"
      },
      "source": [
        "def evaluate(tokenizer, textcat, texts, cats):\n",
        "    docs = (tokenizer(text) for text in texts)\n",
        "    tp = 0.0  # True positives\n",
        "    fp = 1e-8  # False positives\n",
        "    fn = 1e-8  # False negatives\n",
        "    tn = 0.0  # True negatives\n",
        "    for i, doc in enumerate(textcat.pipe(docs)):\n",
        "        gold = cats[i]\n",
        "        for label, score in doc.cats.items():\n",
        "            if label not in gold:\n",
        "                continue\n",
        "            if label == \"NEGATIVE\":\n",
        "                continue\n",
        "            if score >= 0.5 and gold[label] >= 0.5:\n",
        "                tp += 1.0\n",
        "            elif score >= 0.5 and gold[label] < 0.5:\n",
        "                fp += 1.0\n",
        "            elif score < 0.5 and gold[label] < 0.5:\n",
        "                tn += 1\n",
        "            elif score < 0.5 and gold[label] >= 0.5:\n",
        "                fn += 1\n",
        "    precision = tp / (tp + fp)\n",
        "    recall = tp / (tp + fn)\n",
        "    if (precision + recall) == 0:\n",
        "        f_score = 0.0\n",
        "    else:\n",
        "        f_score = 2 * (precision * recall) / (precision + recall)\n",
        "    return {\"textcat_p\": precision, \"textcat_r\": recall, \"textcat_f\": f_score}\n",
        "\n",
        "\n",
        "#(\"Number of training iterations\", \"n\", int))\n",
        "n_iter=10"
      ],
      "execution_count": 33,
      "outputs": []
    },
    {
      "cell_type": "markdown",
      "metadata": {
        "id": "hOfj0AuqZF_8"
      },
      "source": [
        "### MODEL BUILDING USING SIMPLE CNN"
      ]
    },
    {
      "cell_type": "markdown",
      "metadata": {
        "id": "T5a9xBImZLH1"
      },
      "source": [
        "The data is stored in train_data() variable and the component in texcat.\n",
        "\n",
        "Before we train, we need to disable the other pipeline components except textcat. This is to prevent the other components from getting affected while training. It can be accomplished through the disable_pipes() method. Next, use the begin_training() function that will return us an optimizer.\n",
        "\n",
        "The minibatch() function of spaCy will return you the training data in batches. It takes the size parameter to denote the batch size. The compounding() function takes three inputs which are start (the first integer value) ,stop (the maximum value that can be generated) and finally compound. This value stored in compound is the compounding factor for the series. \n",
        "\n",
        "For each iteration , the model is updated through the nlp.update() command. Parameters of nlp.update() are :\n",
        "\n",
        "    1. docs: This expects a batch of texts as input. We can pass each batch to the zip method.\n",
        "\n",
        "    2. golds: We can pass the annotations (got through the zip method).\n",
        "\n",
        "    3. drop: This represents the dropout rate.\n",
        "\n",
        "    4. losses: A dictionary to hold the losses against each pipeline component. Create an empty dictionary and pass it here.\n",
        "\n"
      ]
    },
    {
      "cell_type": "code",
      "metadata": {
        "colab": {
          "base_uri": "https://localhost:8080/"
        },
        "id": "6fFeax1dbNbk",
        "outputId": "ced153e7-68c3-499f-cd39-cfdfcd496709"
      },
      "source": [
        "from spacy.util import minibatch, compounding\n",
        "\n",
        "# Disabling other components\n",
        "other_pipes = [pipe for pipe in nlp.pipe_names if pipe != 'textcat']\n",
        "with nlp.disable_pipes(*other_pipes):  # only train textcat\n",
        "    optimizer = nlp.begin_training()\n",
        "\n",
        "    print(\"Training the model...\")\n",
        "    print('{:^5}\\t{:^5}\\t{:^5}\\t{:^5}'.format('LOSS', 'P', 'R', 'F'))\n",
        "\n",
        "    # Performing training\n",
        "    for i in range(n_iter):\n",
        "        losses = {}\n",
        "        batches = minibatch(train_data, size=compounding(4., 32., 1.001))\n",
        "        for batch in batches:\n",
        "            texts, annotations = zip(*batch)\n",
        "            nlp.update(texts, annotations, sgd=optimizer, drop=0.2,\n",
        "                       losses=losses)\n",
        "\n",
        "      # Calling the evaluate() function and printing the scores\n",
        "        with textcat.model.use_params(optimizer.averages):\n",
        "            scores = evaluate(nlp.tokenizer, textcat, dev_texts, dev_cats)\n",
        "        print('{0:.3f}\\t{1:.3f}\\t{2:.3f}\\t{3:.3f}'  \n",
        "              .format(losses['textcat'], scores['textcat_p'],\n",
        "                      scores['textcat_r'], scores['textcat_f']))"
      ],
      "execution_count": 34,
      "outputs": [
        {
          "output_type": "stream",
          "name": "stdout",
          "text": [
            "Training the model...\n",
            "LOSS \t  P  \t  R  \t  F  \n",
            "9.425\t0.992\t0.992\t0.992\n",
            "1.652\t0.998\t0.999\t0.999\n",
            "0.471\t0.999\t1.000\t0.999\n",
            "0.491\t0.999\t1.000\t0.999\n",
            "0.352\t0.998\t1.000\t0.999\n",
            "0.069\t0.998\t1.000\t0.999\n",
            "0.246\t0.999\t1.000\t0.999\n",
            "0.071\t0.999\t1.000\t1.000\n",
            "0.071\t1.000\t1.000\t1.000\n",
            "0.022\t0.999\t1.000\t1.000\n"
          ]
        }
      ]
    },
    {
      "cell_type": "markdown",
      "metadata": {
        "id": "9PuLoKrebttE"
      },
      "source": [
        "### MODEL EVALUATION"
      ]
    },
    {
      "cell_type": "code",
      "metadata": {
        "id": "K-dlbbqSCGRQ",
        "colab": {
          "base_uri": "https://localhost:8080/"
        },
        "outputId": "42f6bc6f-812c-4f52-8bf9-990d8529484c"
      },
      "source": [
        "# Testing the model\n",
        "test_text = \"bad hotel and aggressive staff\"\n",
        "doc=nlp(test_text)\n",
        "doc.cats "
      ],
      "execution_count": 35,
      "outputs": [
        {
          "output_type": "execute_result",
          "data": {
            "text/plain": [
              "{'NEGATIVE': 0.9999997615814209, 'POSITIVE': 1.8691370939905028e-07}"
            ]
          },
          "metadata": {},
          "execution_count": 35
        }
      ]
    },
    {
      "cell_type": "code",
      "metadata": {
        "id": "zzuDqXGvbonV",
        "colab": {
          "base_uri": "https://localhost:8080/"
        },
        "outputId": "4a8d6837-0373-45e0-bab0-3b7da4402b58"
      },
      "source": [
        "test_text = \"My wife and I came to spend the weekend in downtown Chicago for shopping and we found this Conrad hotel well located close to everything downtown and of a size that doesn't make you feel lost in the Convention world. We have had this feeling when staying at larger hotels in the past. Our Suite has view on Michigan avenue with a bit of the Lake at the end. Staff was very professional, pleasant and friendly making us feel very comfortable. Internet is free n the rooms and I am making my review from there. \"\n",
        "doc=nlp(test_text)\n",
        "doc.cats "
      ],
      "execution_count": 36,
      "outputs": [
        {
          "output_type": "execute_result",
          "data": {
            "text/plain": [
              "{'NEGATIVE': 1.6778597000666196e-06, 'POSITIVE': 0.9999983310699463}"
            ]
          },
          "metadata": {},
          "execution_count": 36
        }
      ]
    },
    {
      "cell_type": "code",
      "metadata": {
        "id": "feM36A9rbouz",
        "colab": {
          "base_uri": "https://localhost:8080/"
        },
        "outputId": "567295f3-75ad-417c-dc64-6e16acbdc38c"
      },
      "source": [
        "test_text = \"We stayed at the Conrad for 2 nights for a friends reunion. The room was clean and new feeling, nice city view, free bottled water in room upon arrival. Check in was a breeze, and our room was ready even though we were several hours early. All staff was friendly and helpful, excellent breakfast.\"\n",
        "doc=nlp(test_text)\n",
        "doc.cats "
      ],
      "execution_count": 37,
      "outputs": [
        {
          "output_type": "execute_result",
          "data": {
            "text/plain": [
              "{'NEGATIVE': 7.817983771474246e-08, 'POSITIVE': 0.9999998807907104}"
            ]
          },
          "metadata": {},
          "execution_count": 37
        }
      ]
    },
    {
      "cell_type": "code",
      "metadata": {
        "id": "9NNE8wAlbo3H",
        "colab": {
          "base_uri": "https://localhost:8080/"
        },
        "outputId": "e5e8d40a-2e7f-43d5-d551-b73488403634"
      },
      "source": [
        "test_text = \"Great Hotel, we always love breakfast in morning,and drinks in even when applicable. Around the corner from magnificent Mile,and close to lots of restaurants. Staff was great, we even checked in early before noon,and other room available less than hour later.\"\n",
        "doc=nlp(test_text)\n",
        "doc.cats "
      ],
      "execution_count": 38,
      "outputs": [
        {
          "output_type": "execute_result",
          "data": {
            "text/plain": [
              "{'NEGATIVE': 1.0664180042502247e-13, 'POSITIVE': 1.0}"
            ]
          },
          "metadata": {},
          "execution_count": 38
        }
      ]
    },
    {
      "cell_type": "code",
      "metadata": {
        "id": "B0DIuGCKbo9t",
        "colab": {
          "base_uri": "https://localhost:8080/"
        },
        "outputId": "17b96fcd-5723-45e8-ce15-00d241409dd0"
      },
      "source": [
        "test_text = \"I totally LOVED IT here!! When you called either the Front Desk or Room Service, the phone was answered with nice manner\"\n",
        "doc=nlp(test_text)\n",
        "doc.cats "
      ],
      "execution_count": 39,
      "outputs": [
        {
          "output_type": "execute_result",
          "data": {
            "text/plain": [
              "{'NEGATIVE': 0.006482305936515331, 'POSITIVE': 0.9935177564620972}"
            ]
          },
          "metadata": {},
          "execution_count": 39
        }
      ]
    },
    {
      "cell_type": "code",
      "metadata": {
        "id": "wymSlygBbpE_",
        "colab": {
          "base_uri": "https://localhost:8080/"
        },
        "outputId": "66100395-3d72-436a-d0e6-9d82f7ecfb4d"
      },
      "source": [
        "test_text = \"good morning! very good hotel. i would suggest this hotel to everyone\"\n",
        "doc=nlp(test_text)\n",
        "doc.cats "
      ],
      "execution_count": 40,
      "outputs": [
        {
          "output_type": "execute_result",
          "data": {
            "text/plain": [
              "{'NEGATIVE': 0.9903290271759033, 'POSITIVE': 0.009670901112258434}"
            ]
          },
          "metadata": {},
          "execution_count": 40
        }
      ]
    },
    {
      "cell_type": "code",
      "metadata": {
        "id": "sqRAY_aRbpMJ",
        "colab": {
          "base_uri": "https://localhost:8080/"
        },
        "outputId": "604c3079-8d1d-4558-95e9-9fed9a85f122"
      },
      "source": [
        "test_text = \"For 250 dollars, cheapest room available at the Hard Rock Hotel Chicago, you would assume you would have access to wifi. Yet, that was not the case. I was told I 'could have had' internet if I had booked through the site, which I didnt. The lady in the reception had no idea what she was talking about and had to ask around about internet access in general.\"\n",
        "doc=nlp(test_text)\n",
        "doc.cats "
      ],
      "execution_count": 41,
      "outputs": [
        {
          "output_type": "execute_result",
          "data": {
            "text/plain": [
              "{'NEGATIVE': 1.0, 'POSITIVE': 2.3181233321789563e-10}"
            ]
          },
          "metadata": {},
          "execution_count": 41
        }
      ]
    },
    {
      "cell_type": "code",
      "metadata": {
        "id": "gEFvfmW5bpTu",
        "colab": {
          "base_uri": "https://localhost:8080/"
        },
        "outputId": "87aa9bd7-6042-4127-bf4a-3ca2ce776ad1"
      },
      "source": [
        "test_text = \"The atmosphere at the Talbott Hotel is very welcoming when you first walk in. The employees are friendly and will greet you when you first arrive. The hotel seems to be luxurious, even from the lobby, and right away, I was very excited for my stay! I stayed in a double queen room with my friend. The room is spacious enough, and beds are very comfortable. I didn't try the room service, but they do have a fitness club close by with a spa, which is very convenient. I also love how the room has individual climate controls! Very neat! Also handy that there is an iHome in the room. I'm usually stuck using just a regular alarm clock radio at other hotels. I will most likely stay in this hotel another time. It was a wonderful experience!\"\n",
        "doc=nlp(test_text)\n",
        "doc.cats "
      ],
      "execution_count": 42,
      "outputs": [
        {
          "output_type": "execute_result",
          "data": {
            "text/plain": [
              "{'NEGATIVE': 1.0, 'POSITIVE': 1.164812801768278e-09}"
            ]
          },
          "metadata": {},
          "execution_count": 42
        }
      ]
    },
    {
      "cell_type": "code",
      "metadata": {
        "id": "kTbtHfiSbpau",
        "colab": {
          "base_uri": "https://localhost:8080/"
        },
        "outputId": "6d0e321d-2278-4e54-f769-cba4b84a95ba"
      },
      "source": [
        "test_text = \"The staff was very polite and helpfull and the rooms were very comfortable and felt like home.\"\n",
        "doc=nlp(test_text)\n",
        "doc.cats "
      ],
      "execution_count": 43,
      "outputs": [
        {
          "output_type": "execute_result",
          "data": {
            "text/plain": [
              "{'NEGATIVE': 1.0, 'POSITIVE': 3.016574368075453e-08}"
            ]
          },
          "metadata": {},
          "execution_count": 43
        }
      ]
    },
    {
      "cell_type": "code",
      "metadata": {
        "colab": {
          "base_uri": "https://localhost:8080/"
        },
        "id": "t8T2ID4rPoBx",
        "outputId": "a8ec3669-b1ce-45de-d8d2-38d7e604d381"
      },
      "source": [
        "test_text = \"this hotel staff is good towards me!!!\"\n",
        "doc=nlp(test_text)\n",
        "doc.cats "
      ],
      "execution_count": 44,
      "outputs": [
        {
          "output_type": "execute_result",
          "data": {
            "text/plain": [
              "{'NEGATIVE': 1.0, 'POSITIVE': 5.404613930871938e-13}"
            ]
          },
          "metadata": {},
          "execution_count": 44
        }
      ]
    }
  ]
}